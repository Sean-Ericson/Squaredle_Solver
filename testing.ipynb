{
 "cells": [
  {
   "cell_type": "code",
   "execution_count": 18,
   "id": "e882add3",
   "metadata": {},
   "outputs": [],
   "source": [
    "import numpy as np\n",
    "import matplotlib.pyplot as plt\n",
    "import networkx as nx\n",
    "import pyautogui as pag\n",
    "import random\n",
    "import time\n",
    "import pickle\n",
    "from solver import solve, solve_and_autoclick"
   ]
  },
  {
   "cell_type": "code",
   "execution_count": 2,
   "id": "e4f60f82",
   "metadata": {},
   "outputs": [],
   "source": [
    "def save_words_by_length():\n",
    "    with open(\"words.txt\") as f:\n",
    "        words = [line.strip() for line in f.readlines() if len(line.strip()) >= 4]\n",
    "    max_word_length = max(len(word) for word in words)\n",
    "    words_by_length = {i: [w for w in words if len(w) == i] for i in range(4, max_word_length + 1)}\n",
    "    with open(\"words_by_length.pkl\", \"wb\") as f:\n",
    "        pickle.dump(words_by_length, f)"
   ]
  },
  {
   "cell_type": "code",
   "execution_count": 3,
   "id": "51321a9a",
   "metadata": {},
   "outputs": [],
   "source": [
    "save_words_by_length()"
   ]
  },
  {
   "cell_type": "code",
   "execution_count": null,
   "id": "493a5a02",
   "metadata": {},
   "outputs": [],
   "source": [
    "# grid_dict = {(x,y): grid[y, x] for y in range(grid.shape[0]) for x in range(grid.shape[1])}\n",
    "# grid_dict2 = {k:v for k,v in grid_dict.items() if v != ''}\n",
    "# fig, ax = plt.subplots()\n",
    "# nx.draw(graph, labels=grid_dict2, ax=ax)"
   ]
  },
  {
   "cell_type": "code",
   "execution_count": null,
   "id": "95024d56",
   "metadata": {},
   "outputs": [],
   "source": [
    "#sorted_words = sorted(found_words, key=lambda s: (len(s), s))"
   ]
  },
  {
   "cell_type": "code",
   "execution_count": 5,
   "id": "7c8a11ec",
   "metadata": {},
   "outputs": [],
   "source": [
    "with open(\"words.txt\") as f:\n",
    "    words = [line.strip() for line in f.readlines() if len(line.strip()) >= 4]"
   ]
  },
  {
   "cell_type": "code",
   "execution_count": 16,
   "id": "e418d40b",
   "metadata": {},
   "outputs": [],
   "source": [
    "alphabet = \"abcdefghijklmnopqrstuvwxyz\"\n",
    "all_words = \"\".join(words)\n",
    "letter_freqs = [all_words.count(c)/len(all_words) for c in alphabet]"
   ]
  },
  {
   "cell_type": "code",
   "execution_count": 43,
   "id": "d9b90fe9",
   "metadata": {},
   "outputs": [
    {
     "name": "stdout",
     "output_type": "stream",
     "text": [
      "rosahmiieagctrdr 129 9\n"
     ]
    }
   ],
   "source": [
    "max_word_len = 0\n",
    "while max_word_len < 8:\n",
    "    rand_board = \"\".join(random.choices(alphabet, weights=letter_freqs, k=16))\n",
    "    soln = solve(rand_board)\n",
    "    num_words, max_word_len = len(soln), max(len(s) for s in soln)\n",
    "print(rand_board, num_words, max_word_len)"
   ]
  },
  {
   "cell_type": "code",
   "execution_count": 4,
   "id": "ebdd0888",
   "metadata": {},
   "outputs": [],
   "source": [
    "solve_and_autoclick(\"  lsi oa nim ifs ng eti  \", delay=4)"
   ]
  },
  {
   "cell_type": "code",
   "execution_count": null,
   "id": "8070fc2b",
   "metadata": {},
   "outputs": [
    {
     "data": {
      "text/plain": [
       "False"
      ]
     },
     "execution_count": 39,
     "metadata": {},
     "output_type": "execute_result"
    }
   ],
   "source": [
    "\"chai\" in words\n",
    "\"mega\"\n",
    "\"terabyte\"\n",
    "\"petabyte\"\n",
    "\"chais\""
   ]
  },
  {
   "cell_type": "markdown",
   "id": "c9283061",
   "metadata": {},
   "source": [
    "amid\n"
   ]
  }
 ],
 "metadata": {
  "kernelspec": {
   "display_name": "Squaredle_Solver",
   "language": "python",
   "name": "python3"
  },
  "language_info": {
   "codemirror_mode": {
    "name": "ipython",
    "version": 3
   },
   "file_extension": ".py",
   "mimetype": "text/x-python",
   "name": "python",
   "nbconvert_exporter": "python",
   "pygments_lexer": "ipython3",
   "version": "3.13.7"
  }
 },
 "nbformat": 4,
 "nbformat_minor": 5
}
