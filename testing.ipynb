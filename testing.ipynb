{
 "cells": [
  {
   "cell_type": "code",
   "execution_count": 1,
   "id": "e882add3",
   "metadata": {},
   "outputs": [],
   "source": [
    "import numpy as np\n",
    "import matplotlib.pyplot as plt\n",
    "import networkx as nx\n",
    "import pyautogui as pag\n",
    "import time\n",
    "import pickle\n",
    "from solver import solve, solve_and_autoclick"
   ]
  },
  {
   "cell_type": "code",
   "execution_count": 34,
   "id": "e4f60f82",
   "metadata": {},
   "outputs": [],
   "source": [
    "def save_words_by_length():\n",
    "    with open(\"words.txt\") as f:\n",
    "        words = [line.strip() for line in f.readlines() if len(line.strip()) >= 4]\n",
    "    max_word_length = max(len(word) for word in words)\n",
    "    words_by_length = {i: [w for w in words if len(w) == i] for i in range(4, max_word_length + 1)}\n",
    "    with open(\"words_by_length.pkl\", \"wb\") as f:\n",
    "        pickle.dump(words_by_length, f)"
   ]
  },
  {
   "cell_type": "code",
   "execution_count": 35,
   "id": "51321a9a",
   "metadata": {},
   "outputs": [],
   "source": [
    "save_words_by_length()"
   ]
  },
  {
   "cell_type": "code",
   "execution_count": null,
   "id": "493a5a02",
   "metadata": {},
   "outputs": [],
   "source": [
    "# grid_dict = {(x,y): grid[y, x] for y in range(grid.shape[0]) for x in range(grid.shape[1])}\n",
    "# grid_dict2 = {k:v for k,v in grid_dict.items() if v != ''}\n",
    "# fig, ax = plt.subplots()\n",
    "# nx.draw(graph, labels=grid_dict2, ax=ax)"
   ]
  },
  {
   "cell_type": "code",
   "execution_count": null,
   "id": "95024d56",
   "metadata": {},
   "outputs": [],
   "source": [
    "#sorted_words = sorted(found_words, key=lambda s: (len(s), s))"
   ]
  },
  {
   "cell_type": "code",
   "execution_count": 38,
   "id": "7c8a11ec",
   "metadata": {},
   "outputs": [],
   "source": [
    "    with open(\"words.txt\") as f:\n",
    "        words = [line.strip() for line in f.readlines() if len(line.strip()) >= 4]"
   ]
  },
  {
   "cell_type": "code",
   "execution_count": 42,
   "id": "d9b90fe9",
   "metadata": {},
   "outputs": [],
   "source": [
    "foo = solve(\"elgspoauhhcracas\")"
   ]
  },
  {
   "cell_type": "code",
   "execution_count": 43,
   "id": "e928ccc3",
   "metadata": {},
   "outputs": [
    {
     "data": {
      "text/plain": [
       "['auras', 'sauch', 'sacral', 'halo', 'haole']"
      ]
     },
     "execution_count": 43,
     "metadata": {},
     "output_type": "execute_result"
    }
   ],
   "source": [
    "foo[-5:]"
   ]
  },
  {
   "cell_type": "code",
   "execution_count": 41,
   "id": "ebdd0888",
   "metadata": {},
   "outputs": [],
   "source": [
    "solve_and_autoclick(\"elgspoauhhcracas\", delay=4)"
   ]
  },
  {
   "cell_type": "code",
   "execution_count": 39,
   "id": "8070fc2b",
   "metadata": {},
   "outputs": [
    {
     "data": {
      "text/plain": [
       "False"
      ]
     },
     "execution_count": 39,
     "metadata": {},
     "output_type": "execute_result"
    }
   ],
   "source": [
    "\"chai\" in words"
   ]
  },
  {
   "cell_type": "markdown",
   "id": "c9283061",
   "metadata": {},
   "source": [
    "amid\n"
   ]
  }
 ],
 "metadata": {
  "kernelspec": {
   "display_name": "Squaredle_Solver",
   "language": "python",
   "name": "python3"
  },
  "language_info": {
   "codemirror_mode": {
    "name": "ipython",
    "version": 3
   },
   "file_extension": ".py",
   "mimetype": "text/x-python",
   "name": "python",
   "nbconvert_exporter": "python",
   "pygments_lexer": "ipython3",
   "version": "3.13.7"
  }
 },
 "nbformat": 4,
 "nbformat_minor": 5
}
